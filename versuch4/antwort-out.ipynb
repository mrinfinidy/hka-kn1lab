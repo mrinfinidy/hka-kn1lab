{
 "cells": [
  {
   "cell_type": "markdown",
   "metadata": {},
   "source": [
    "### <b> Aufgabe 1 - Ein TCP-Strom</b>"
   ]
  },
  {
   "cell_type": "markdown",
   "metadata": {},
   "source": [
    "![title](/home/labrat/hka-kn1lab/versuch4/images/aufgabe1-1.png)"
   ]
  },
  {
   "cell_type": "markdown",
   "metadata": {},
   "source": [
    "![title](/home/labrat/hka-kn1lab/versuch4/images/aufgabe1-2.png)"
   ]
  },
  {
   "cell_type": "markdown",
   "metadata": {},
   "source": [
    "== Average transmission rates ==\\\n",
    "sv1-eth1.send:       0.02 MBits/s\\\n",
    "sv1-eth1.receive:       0.98 MBits/s"
   ]
  },
  {
   "cell_type": "markdown",
   "metadata": {},
   "source": [
    "### <b>Aufgabe 2 - Fairness : TCP</b>"
   ]
  },
  {
   "cell_type": "markdown",
   "metadata": {},
   "source": [
    "![title](/home/labrat/hka-kn1lab/versuch4/images/aufgabe2-tcp.png)"
   ]
  },
  {
   "cell_type": "markdown",
   "metadata": {},
   "source": [
    "== Average transmission rates ==\\\n",
    "sv1-eth1.send:       0.01 MBits/s\\\n",
    "sv1-eth1.receive:        0.5 MBits/s\\\n",
    "sv1-eth2.send:       0.01 MBits/s\\\n",
    "sv1-eth2.receive:        0.5 MBits/s"
   ]
  },
  {
   "cell_type": "markdown",
   "metadata": {},
   "source": [
    "### <b>Aufgabe 2 - Fairness : UDP</b>"
   ]
  },
  {
   "cell_type": "markdown",
   "metadata": {},
   "source": [
    "![title](/home/labrat/hka-kn1lab/versuch4/images/aufgabe2-udp.png)"
   ]
  },
  {
   "cell_type": "markdown",
   "metadata": {},
   "source": [
    "== Average transmission rates ==\\\n",
    "sv1-eth1.send:        0.0 MBits/s\\\n",
    "sv1-eth1.receive:        0.5 MBits/s\\\n",
    "sv1-eth2.send:        0.0 MBits/s\\\n",
    "sv1-eth2.receive:       0.49 MBits/s"
   ]
  },
  {
   "cell_type": "markdown",
   "metadata": {},
   "source": [
    "### <b>Aufgabe 3 - Auswirkungen von hohem Paketverlust auf den TCP-Durchsatz</b>"
   ]
  },
  {
   "cell_type": "markdown",
   "metadata": {},
   "source": [
    "![title](/home/labrat/hka-kn1lab/versuch4/images/aufgabe3-1.png)"
   ]
  },
  {
   "cell_type": "markdown",
   "metadata": {},
   "source": [
    "![title](/home/labrat/hka-kn1lab/versuch4/images/aufgabe3-2.png)"
   ]
  },
  {
   "cell_type": "markdown",
   "metadata": {},
   "source": [
    "== Average transmission rates ==\\\n",
    "sv1-eth1.send:       0.02 MBits/s\\\n",
    "sv1-eth1.receive:       0.88 MBits/s"
   ]
  },
  {
   "cell_type": "markdown",
   "metadata": {},
   "source": [
    "### <b> Aufgabe 4 - Auswirkungen von hohem Paketverlust auf den UDP-Durchsatz</b>\n",
    "<b>Ausgabe von sv1:</b>"
   ]
  },
  {
   "cell_type": "markdown",
   "metadata": {},
   "source": [
    "![title](/home/labrat/hka-kn1lab/versuch4/images/aufgabe4-sv1.png)"
   ]
  },
  {
   "cell_type": "markdown",
   "metadata": {},
   "source": [
    "== Average transmission rates ==\\\n",
    "sv1-eth1.send:        0.0 MBits/s\\\n",
    "sv1-eth1.receive:       0.94 MBits/s"
   ]
  },
  {
   "cell_type": "markdown",
   "metadata": {},
   "source": [
    "<b>Ausgabe von c1</b>"
   ]
  },
  {
   "cell_type": "markdown",
   "metadata": {},
   "source": [
    "![title](/home/labrat/hka-kn1lab/versuch4/images/aufgabe4-c1.png)"
   ]
  },
  {
   "cell_type": "markdown",
   "metadata": {},
   "source": [
    "== Average transmission rates ==\\\n",
    "c1-eth1.send:       1.04 MBits/s\\\n",
    "c1-eth1.receive:        0.0 MBits/s"
   ]
  },
  {
   "cell_type": "markdown",
   "metadata": {},
   "source": []
  }
 ],
 "metadata": {
  "language_info": {
   "name": "python"
  }
 },
 "nbformat": 4,
 "nbformat_minor": 2
}
