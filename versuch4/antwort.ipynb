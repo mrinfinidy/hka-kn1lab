{
 "cells": [
  {
   "cell_type": "markdown",
   "metadata": {},
   "source": [
    "### <b>Aufgabe 1</b>\n",
    "./runTopo.sh 1\n",
    "\n",
    "terminal-sv1:\n",
    "iperf3 -s\n",
    "\n",
    "terminal-c1:\n",
    "iperf3 -c 10.11.0.3 -Z -t 60\n",
    "\n",
    "terminal-sv1-cpunetlog:\n",
    "cpunetlog -l --nics sv1-eth1"
   ]
  },
  {
   "cell_type": "code",
   "execution_count": null,
   "metadata": {},
   "outputs": [],
   "source": [
    "import os"
   ]
  },
  {
   "cell_type": "code",
   "execution_count": null,
   "metadata": {},
   "outputs": [],
   "source": [
    "%run /CPUnetPLOT/cnl_plot.py  -nsc 0.0011 /tmp/cpunetlog/2024-06-26_11:07:20-deductive-gurnard.cnl"
   ]
  },
  {
   "cell_type": "code",
   "execution_count": null,
   "metadata": {},
   "outputs": [],
   "source": [
    "%run /CPUnetPLOT/summary.py /tmp/cpunetlog/2024-06-26_11:07:20-deductive-gurnard.cnl"
   ]
  },
  {
   "cell_type": "markdown",
   "metadata": {},
   "source": [
    "### <b>Aufgabe 2-1 TCP</b>\n",
    "\n",
    "terminal-sv1-eth1:\n",
    "iperf3 -s -B 10.11.0.3\n",
    "\n",
    "terminal-sv1-eth2:\n",
    "iperf3 -s -B 10.12.0.3\n",
    "\n",
    "terminal-sv1-cpunetlog:\n",
    "cpunetlog -l --nics sv1-eth1 sv1-eth2\n",
    "\n",
    "terminal-c1:\n",
    "iperf3 -c 10.11.0.3 -Z -t 60\n",
    "\n",
    "terminal-c2:\n",
    "iperf3 -c 10.12.0.3 -Z -t 60"
   ]
  },
  {
   "cell_type": "code",
   "execution_count": null,
   "metadata": {},
   "outputs": [],
   "source": [
    "%run /CPUnetPLOT/cnl_plot.py  -nsc 0.0011 /tmp/cpunetlog/2024-06-26_12:03:36-deductive-gurnard.cnl"
   ]
  },
  {
   "cell_type": "code",
   "execution_count": null,
   "metadata": {},
   "outputs": [],
   "source": [
    "%run /CPUnetPLOT/summary.py /tmp/cpunetlog/2024-06-26_12:03:36-deductive-gurnard.cnl"
   ]
  },
  {
   "cell_type": "markdown",
   "metadata": {},
   "source": [
    "### <b>Aufgabe2-2 UDP</b>\n",
    "terminal-sv1-cpunetlog:\n",
    "cpunetlog -l --nics sv1-eth1 sv1-eth2\n",
    "\n",
    "terminal-c1:\n",
    "iperf3 -c 10.11.0.3 -Z -t 60 -u\n",
    "\n",
    "terminal-c2:\n",
    "iperf3 -c 10.12.0.3 -Z -t 60 -u"
   ]
  },
  {
   "cell_type": "code",
   "execution_count": null,
   "metadata": {},
   "outputs": [],
   "source": [
    "%run /CPUnetPLOT/cnl_plot.py  -nsc 0.0011 /tmp/cpunetlog/2024-06-26_12:13:21-deductive-gurnard.cnl"
   ]
  },
  {
   "cell_type": "code",
   "execution_count": null,
   "metadata": {},
   "outputs": [],
   "source": [
    "%run /CPUnetPLOT/summary.py /tmp/cpunetlog/2024-06-26_12:13:21-deductive-gurnard.cnl"
   ]
  },
  {
   "cell_type": "markdown",
   "metadata": {},
   "source": [
    "### <b>Aufgabe3</b>\n",
    "./runTopo.sh 2\n",
    "\n",
    "terminal-sv1:\n",
    "iperf3 -s\n",
    "\n",
    "terminal-c1:\n",
    "iperf3 -c 10.11.0.3 -Z -t 60\n",
    "\n",
    "terminal-sv1-cpunetlog:\n",
    "cpunetlog -l --nics sv1-eth1"
   ]
  },
  {
   "cell_type": "code",
   "execution_count": null,
   "metadata": {},
   "outputs": [],
   "source": [
    "%run /CPUnetPLOT/cnl_plot.py  -nsc 0.0011 /tmp/cpunetlog/2024-06-26_12:24:07-deductive-gurnard.cnl"
   ]
  },
  {
   "cell_type": "code",
   "execution_count": null,
   "metadata": {},
   "outputs": [],
   "source": [
    "%run /CPUnetPLOT/summary.py /tmp/cpunetlog/2024-06-26_12:24:07-deductive-gurnard.cnl"
   ]
  },
  {
   "cell_type": "markdown",
   "metadata": {},
   "source": [
    "### <b>Aufgabe 4</b>\n",
    "\n",
    "./runTopo.sh 3\n",
    "\n",
    "terminal-sv1:\n",
    "iperf3 -s\n",
    "\n",
    "terminal-c1:\n",
    "iperf3 -c 10.11.0.3 -Z -t 60 -u\n",
    "\n",
    "terminal-sv1-cpunetlog:\n",
    "cpunetlog -l --nics sv1-eth1"
   ]
  },
  {
   "cell_type": "markdown",
   "metadata": {},
   "source": [
    "<b>Ausgabe von sv1:</b>"
   ]
  },
  {
   "cell_type": "code",
   "execution_count": null,
   "metadata": {},
   "outputs": [],
   "source": [
    "%run /CPUnetPLOT/cnl_plot.py  -nsc 0.0011 /tmp/cpunetlog/2024-06-26_12:53:40-deductive-gurnard.cnl"
   ]
  },
  {
   "cell_type": "code",
   "execution_count": null,
   "metadata": {},
   "outputs": [],
   "source": [
    "%run /CPUnetPLOT/summary.py /tmp/cpunetlog/2024-06-26_12:53:40-deductive-gurnard.cnl"
   ]
  },
  {
   "cell_type": "markdown",
   "metadata": {},
   "source": [
    "<b>Ausgabe von c1</b>"
   ]
  },
  {
   "cell_type": "code",
   "execution_count": null,
   "metadata": {},
   "outputs": [],
   "source": [
    "%run /CPUnetPLOT/cnl_plot.py  -nsc 0.0011 /tmp/cpunetlog/2024-06-26_12:53:44-deductive-gurnard.cnl"
   ]
  },
  {
   "cell_type": "code",
   "execution_count": null,
   "metadata": {},
   "outputs": [],
   "source": [
    "%run /CPUnetPLOT/summary.py /tmp/cpunetlog/2024-06-26_12:53:44-deductive-gurnard.cnl"
   ]
  },
  {
   "cell_type": "code",
   "execution_count": null,
   "metadata": {},
   "outputs": [],
   "source": []
  }
 ],
 "metadata": {
  "kernelspec": {
   "display_name": "Python 3",
   "language": "python",
   "name": "python3"
  },
  "language_info": {
   "codemirror_mode": {
    "name": "ipython",
    "version": 3
   },
   "file_extension": ".py",
   "mimetype": "text/x-python",
   "name": "python",
   "nbconvert_exporter": "python",
   "pygments_lexer": "ipython3",
   "version": "3.10.12"
  }
 },
 "nbformat": 4,
 "nbformat_minor": 2
}
